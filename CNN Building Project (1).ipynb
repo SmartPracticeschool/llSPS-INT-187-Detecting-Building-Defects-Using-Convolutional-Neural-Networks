{
 "cells": [
  {
   "cell_type": "code",
   "execution_count": 1,
   "metadata": {},
   "outputs": [
    {
     "name": "stderr",
     "output_type": "stream",
     "text": [
      "Using TensorFlow backend.\n",
      "C:\\Users\\vyshn\\anaconda3\\lib\\site-packages\\tensorflow\\python\\framework\\dtypes.py:516: FutureWarning: Passing (type, 1) or '1type' as a synonym of type is deprecated; in a future version of numpy, it will be understood as (type, (1,)) / '(1,)type'.\n",
      "  _np_qint8 = np.dtype([(\"qint8\", np.int8, 1)])\n",
      "C:\\Users\\vyshn\\anaconda3\\lib\\site-packages\\tensorflow\\python\\framework\\dtypes.py:517: FutureWarning: Passing (type, 1) or '1type' as a synonym of type is deprecated; in a future version of numpy, it will be understood as (type, (1,)) / '(1,)type'.\n",
      "  _np_quint8 = np.dtype([(\"quint8\", np.uint8, 1)])\n",
      "C:\\Users\\vyshn\\anaconda3\\lib\\site-packages\\tensorflow\\python\\framework\\dtypes.py:518: FutureWarning: Passing (type, 1) or '1type' as a synonym of type is deprecated; in a future version of numpy, it will be understood as (type, (1,)) / '(1,)type'.\n",
      "  _np_qint16 = np.dtype([(\"qint16\", np.int16, 1)])\n",
      "C:\\Users\\vyshn\\anaconda3\\lib\\site-packages\\tensorflow\\python\\framework\\dtypes.py:519: FutureWarning: Passing (type, 1) or '1type' as a synonym of type is deprecated; in a future version of numpy, it will be understood as (type, (1,)) / '(1,)type'.\n",
      "  _np_quint16 = np.dtype([(\"quint16\", np.uint16, 1)])\n",
      "C:\\Users\\vyshn\\anaconda3\\lib\\site-packages\\tensorflow\\python\\framework\\dtypes.py:520: FutureWarning: Passing (type, 1) or '1type' as a synonym of type is deprecated; in a future version of numpy, it will be understood as (type, (1,)) / '(1,)type'.\n",
      "  _np_qint32 = np.dtype([(\"qint32\", np.int32, 1)])\n",
      "C:\\Users\\vyshn\\anaconda3\\lib\\site-packages\\tensorflow\\python\\framework\\dtypes.py:525: FutureWarning: Passing (type, 1) or '1type' as a synonym of type is deprecated; in a future version of numpy, it will be understood as (type, (1,)) / '(1,)type'.\n",
      "  np_resource = np.dtype([(\"resource\", np.ubyte, 1)])\n",
      "C:\\Users\\vyshn\\anaconda3\\lib\\site-packages\\tensorboard\\compat\\tensorflow_stub\\dtypes.py:541: FutureWarning: Passing (type, 1) or '1type' as a synonym of type is deprecated; in a future version of numpy, it will be understood as (type, (1,)) / '(1,)type'.\n",
      "  _np_qint8 = np.dtype([(\"qint8\", np.int8, 1)])\n",
      "C:\\Users\\vyshn\\anaconda3\\lib\\site-packages\\tensorboard\\compat\\tensorflow_stub\\dtypes.py:542: FutureWarning: Passing (type, 1) or '1type' as a synonym of type is deprecated; in a future version of numpy, it will be understood as (type, (1,)) / '(1,)type'.\n",
      "  _np_quint8 = np.dtype([(\"quint8\", np.uint8, 1)])\n",
      "C:\\Users\\vyshn\\anaconda3\\lib\\site-packages\\tensorboard\\compat\\tensorflow_stub\\dtypes.py:543: FutureWarning: Passing (type, 1) or '1type' as a synonym of type is deprecated; in a future version of numpy, it will be understood as (type, (1,)) / '(1,)type'.\n",
      "  _np_qint16 = np.dtype([(\"qint16\", np.int16, 1)])\n",
      "C:\\Users\\vyshn\\anaconda3\\lib\\site-packages\\tensorboard\\compat\\tensorflow_stub\\dtypes.py:544: FutureWarning: Passing (type, 1) or '1type' as a synonym of type is deprecated; in a future version of numpy, it will be understood as (type, (1,)) / '(1,)type'.\n",
      "  _np_quint16 = np.dtype([(\"quint16\", np.uint16, 1)])\n",
      "C:\\Users\\vyshn\\anaconda3\\lib\\site-packages\\tensorboard\\compat\\tensorflow_stub\\dtypes.py:545: FutureWarning: Passing (type, 1) or '1type' as a synonym of type is deprecated; in a future version of numpy, it will be understood as (type, (1,)) / '(1,)type'.\n",
      "  _np_qint32 = np.dtype([(\"qint32\", np.int32, 1)])\n",
      "C:\\Users\\vyshn\\anaconda3\\lib\\site-packages\\tensorboard\\compat\\tensorflow_stub\\dtypes.py:550: FutureWarning: Passing (type, 1) or '1type' as a synonym of type is deprecated; in a future version of numpy, it will be understood as (type, (1,)) / '(1,)type'.\n",
      "  np_resource = np.dtype([(\"resource\", np.ubyte, 1)])\n"
     ]
    }
   ],
   "source": [
    "from keras.models import Sequential\n",
    "from keras.layers import Dense\n",
    "from keras.layers import Convolution2D\n",
    "from keras.layers import MaxPooling2D\n",
    "from keras.layers import Flatten"
   ]
  },
  {
   "cell_type": "code",
   "execution_count": 2,
   "metadata": {},
   "outputs": [
    {
     "name": "stdout",
     "output_type": "stream",
     "text": [
      "WARNING:tensorflow:From C:\\Users\\vyshn\\anaconda3\\lib\\site-packages\\keras\\backend\\tensorflow_backend.py:68: The name tf.get_default_graph is deprecated. Please use tf.compat.v1.get_default_graph instead.\n",
      "\n"
     ]
    }
   ],
   "source": [
    "model = Sequential()"
   ]
  },
  {
   "cell_type": "code",
   "execution_count": 3,
   "metadata": {},
   "outputs": [
    {
     "name": "stdout",
     "output_type": "stream",
     "text": [
      "WARNING:tensorflow:From C:\\Users\\vyshn\\anaconda3\\lib\\site-packages\\keras\\backend\\tensorflow_backend.py:504: The name tf.placeholder is deprecated. Please use tf.compat.v1.placeholder instead.\n",
      "\n",
      "WARNING:tensorflow:From C:\\Users\\vyshn\\anaconda3\\lib\\site-packages\\keras\\backend\\tensorflow_backend.py:3828: The name tf.random_uniform is deprecated. Please use tf.random.uniform instead.\n",
      "\n"
     ]
    }
   ],
   "source": [
    "model.add(Convolution2D(32,(3,3), input_shape = (64,64,3), activation = 'relu'))"
   ]
  },
  {
   "cell_type": "code",
   "execution_count": 4,
   "metadata": {},
   "outputs": [
    {
     "name": "stdout",
     "output_type": "stream",
     "text": [
      "WARNING:tensorflow:From C:\\Users\\vyshn\\anaconda3\\lib\\site-packages\\keras\\backend\\tensorflow_backend.py:3652: The name tf.nn.max_pool is deprecated. Please use tf.nn.max_pool2d instead.\n",
      "\n"
     ]
    }
   ],
   "source": [
    "model.add(MaxPooling2D(pool_size = (2,2)))"
   ]
  },
  {
   "cell_type": "code",
   "execution_count": 5,
   "metadata": {},
   "outputs": [],
   "source": [
    "model.add(Flatten())"
   ]
  },
  {
   "cell_type": "code",
   "execution_count": 6,
   "metadata": {},
   "outputs": [
    {
     "name": "stderr",
     "output_type": "stream",
     "text": [
      "C:\\Users\\vyshn\\anaconda3\\lib\\site-packages\\ipykernel_launcher.py:1: UserWarning: Update your `Dense` call to the Keras 2 API: `Dense(units=128, activation=\"relu\", kernel_initializer=\"uniform\")`\n",
      "  \"\"\"Entry point for launching an IPython kernel.\n"
     ]
    }
   ],
   "source": [
    "model.add(Dense(units = 128, init ='uniform', activation ='relu'))"
   ]
  },
  {
   "cell_type": "code",
   "execution_count": 7,
   "metadata": {},
   "outputs": [
    {
     "name": "stderr",
     "output_type": "stream",
     "text": [
      "C:\\Users\\vyshn\\anaconda3\\lib\\site-packages\\ipykernel_launcher.py:1: UserWarning: Update your `Dense` call to the Keras 2 API: `Dense(units=128, activation=\"relu\", kernel_initializer=\"uniform\")`\n",
      "  \"\"\"Entry point for launching an IPython kernel.\n"
     ]
    }
   ],
   "source": [
    "model.add(Dense(units = 128, init ='uniform', activation ='relu'))"
   ]
  },
  {
   "cell_type": "code",
   "execution_count": 8,
   "metadata": {},
   "outputs": [
    {
     "name": "stderr",
     "output_type": "stream",
     "text": [
      "C:\\Users\\vyshn\\anaconda3\\lib\\site-packages\\ipykernel_launcher.py:1: UserWarning: Update your `Dense` call to the Keras 2 API: `Dense(activation=\"softmax\", units=3, kernel_initializer=\"uniform\")`\n",
      "  \"\"\"Entry point for launching an IPython kernel.\n"
     ]
    }
   ],
   "source": [
    "model.add(Dense(output_dim = 3, activation = 'softmax', init ='uniform'))"
   ]
  },
  {
   "cell_type": "code",
   "execution_count": 9,
   "metadata": {},
   "outputs": [
    {
     "name": "stdout",
     "output_type": "stream",
     "text": [
      "WARNING:tensorflow:From C:\\Users\\vyshn\\anaconda3\\lib\\site-packages\\keras\\optimizers.py:744: The name tf.train.Optimizer is deprecated. Please use tf.compat.v1.train.Optimizer instead.\n",
      "\n",
      "WARNING:tensorflow:From C:\\Users\\vyshn\\anaconda3\\lib\\site-packages\\keras\\backend\\tensorflow_backend.py:3005: The name tf.log is deprecated. Please use tf.math.log instead.\n",
      "\n"
     ]
    }
   ],
   "source": [
    "model.compile(optimizer='adam',loss='categorical_crossentropy',metrics=['accuracy'])"
   ]
  },
  {
   "cell_type": "code",
   "execution_count": 10,
   "metadata": {},
   "outputs": [],
   "source": [
    "from keras.preprocessing.image import  ImageDataGenerator\n",
    "train_datagen = ImageDataGenerator(rescale = 1./255, shear_range = 0.2, zoom_range = 0.2, horizontal_flip = True)\n",
    "test_datagen = ImageDataGenerator(rescale = 1./255)"
   ]
  },
  {
   "cell_type": "code",
   "execution_count": 13,
   "metadata": {},
   "outputs": [
    {
     "name": "stdout",
     "output_type": "stream",
     "text": [
      "Found 455 images belonging to 3 classes.\n",
      "Found 146 images belonging to 3 classes.\n"
     ]
    }
   ],
   "source": [
    "x_train = train_datagen.flow_from_directory(r'C:\\Users\\vyshn\\Desktop\\CNN BULIDING\\train', target_size = (64,64), batch_size = 32, class_mode = 'categorical')\n",
    "x_test = test_datagen.flow_from_directory(r'C:\\Users\\vyshn\\Desktop\\CNN BULIDING\\test', target_size = (64,64), batch_size = 32, class_mode = 'categorical')"
   ]
  },
  {
   "cell_type": "code",
   "execution_count": 14,
   "metadata": {},
   "outputs": [
    {
     "name": "stdout",
     "output_type": "stream",
     "text": [
      "{'crack': 0, 'flakes': 1, 'spall': 2}\n"
     ]
    }
   ],
   "source": [
    "print(x_train.class_indices)"
   ]
  },
  {
   "cell_type": "code",
   "execution_count": 15,
   "metadata": {},
   "outputs": [],
   "source": [
    "model.compile(loss= 'categorical_crossentropy',optimizer = \"adam\",metrics = [\"accuracy\"])"
   ]
  },
  {
   "cell_type": "code",
   "execution_count": 16,
   "metadata": {},
   "outputs": [
    {
     "name": "stdout",
     "output_type": "stream",
     "text": [
      "WARNING:tensorflow:From C:\\Users\\vyshn\\anaconda3\\lib\\site-packages\\tensorflow\\python\\ops\\math_grad.py:1250: add_dispatch_support.<locals>.wrapper (from tensorflow.python.ops.array_ops) is deprecated and will be removed in a future version.\n",
      "Instructions for updating:\n",
      "Use tf.where in 2.0, which has the same broadcast rule as np.where\n",
      "WARNING:tensorflow:From C:\\Users\\vyshn\\anaconda3\\lib\\site-packages\\keras\\backend\\tensorflow_backend.py:973: The name tf.assign_add is deprecated. Please use tf.compat.v1.assign_add instead.\n",
      "\n",
      "Epoch 1/30\n",
      "94/94 [==============================] - 34s 358ms/step - loss: 1.0487 - acc: 0.4481 - val_loss: 1.0392 - val_acc: 0.4658\n",
      "Epoch 2/30\n",
      "94/94 [==============================] - 25s 265ms/step - loss: 0.9470 - acc: 0.5275 - val_loss: 0.9624 - val_acc: 0.5342\n",
      "Epoch 3/30\n",
      "94/94 [==============================] - 24s 260ms/step - loss: 0.7627 - acc: 0.6622 - val_loss: 0.8865 - val_acc: 0.6027\n",
      "Epoch 4/30\n",
      "94/94 [==============================] - 25s 264ms/step - loss: 0.5880 - acc: 0.7569 - val_loss: 1.0646 - val_acc: 0.5000\n",
      "Epoch 5/30\n",
      "94/94 [==============================] - 24s 252ms/step - loss: 0.4232 - acc: 0.8336 - val_loss: 1.1118 - val_acc: 0.6438\n",
      "Epoch 6/30\n",
      "94/94 [==============================] - 24s 256ms/step - loss: 0.3411 - acc: 0.8702 - val_loss: 1.2296 - val_acc: 0.6164\n",
      "Epoch 7/30\n",
      "94/94 [==============================] - 25s 269ms/step - loss: 0.2473 - acc: 0.9081 - val_loss: 1.5610 - val_acc: 0.6164\n",
      "Epoch 8/30\n",
      "94/94 [==============================] - 25s 265ms/step - loss: 0.2054 - acc: 0.9262 - val_loss: 1.4715 - val_acc: 0.6712\n",
      "Epoch 9/30\n",
      "94/94 [==============================] - 24s 255ms/step - loss: 0.1333 - acc: 0.9594 - val_loss: 2.1417 - val_acc: 0.5685\n",
      "Epoch 10/30\n",
      "94/94 [==============================] - 24s 257ms/step - loss: 0.1343 - acc: 0.9517 - val_loss: 1.8175 - val_acc: 0.6027\n",
      "Epoch 11/30\n",
      "94/94 [==============================] - 25s 262ms/step - loss: 0.1242 - acc: 0.9586 - val_loss: 2.2644 - val_acc: 0.6027\n",
      "Epoch 12/30\n",
      "94/94 [==============================] - 25s 268ms/step - loss: 0.0936 - acc: 0.9714 - val_loss: 2.2139 - val_acc: 0.6507\n",
      "Epoch 13/30\n",
      "94/94 [==============================] - 24s 252ms/step - loss: 0.0839 - acc: 0.9714 - val_loss: 2.3929 - val_acc: 0.6301\n",
      "Epoch 14/30\n",
      "94/94 [==============================] - 24s 257ms/step - loss: 0.0570 - acc: 0.9844 - val_loss: 2.2231 - val_acc: 0.6575\n",
      "Epoch 15/30\n",
      "94/94 [==============================] - 25s 262ms/step - loss: 0.0732 - acc: 0.9755 - val_loss: 2.2049 - val_acc: 0.6438\n",
      "Epoch 16/30\n",
      "94/94 [==============================] - 24s 253ms/step - loss: 0.0571 - acc: 0.9844 - val_loss: 2.1623 - val_acc: 0.7055\n",
      "Epoch 17/30\n",
      "94/94 [==============================] - 24s 255ms/step - loss: 0.0412 - acc: 0.9884 - val_loss: 2.3822 - val_acc: 0.5685\n",
      "Epoch 18/30\n",
      "94/94 [==============================] - 24s 260ms/step - loss: 0.0641 - acc: 0.9787 - val_loss: 2.4997 - val_acc: 0.6233\n",
      "Epoch 19/30\n",
      "94/94 [==============================] - 25s 264ms/step - loss: 0.0545 - acc: 0.9827 - val_loss: 2.6396 - val_acc: 0.6027\n",
      "Epoch 20/30\n",
      "94/94 [==============================] - 24s 253ms/step - loss: 0.0551 - acc: 0.9830 - val_loss: 2.3568 - val_acc: 0.6575\n",
      "Epoch 21/30\n",
      "94/94 [==============================] - 24s 257ms/step - loss: 0.0338 - acc: 0.9887 - val_loss: 2.8340 - val_acc: 0.6096\n",
      "Epoch 22/30\n",
      "94/94 [==============================] - 20s 213ms/step - loss: 0.0224 - acc: 0.9930 - val_loss: 2.6747 - val_acc: 0.6507\n",
      "Epoch 23/30\n",
      "94/94 [==============================] - 23s 243ms/step - loss: 0.0546 - acc: 0.9819 - val_loss: 2.9026 - val_acc: 0.6507\n",
      "Epoch 24/30\n",
      "94/94 [==============================] - 24s 255ms/step - loss: 0.0519 - acc: 0.9837 - val_loss: 2.4250 - val_acc: 0.6438\n",
      "Epoch 25/30\n",
      "94/94 [==============================] - 24s 255ms/step - loss: 0.0309 - acc: 0.9892 - val_loss: 2.4687 - val_acc: 0.6781\n",
      "Epoch 26/30\n",
      "94/94 [==============================] - 25s 264ms/step - loss: 0.0317 - acc: 0.9920 - val_loss: 2.7718 - val_acc: 0.6507\n",
      "Epoch 27/30\n",
      "94/94 [==============================] - 21s 218ms/step - loss: 0.0503 - acc: 0.9857 - val_loss: 3.1559 - val_acc: 0.5342\n",
      "Epoch 28/30\n",
      "94/94 [==============================] - 22s 233ms/step - loss: 0.0669 - acc: 0.9799 - val_loss: 3.1430 - val_acc: 0.5753\n",
      "Epoch 29/30\n",
      "94/94 [==============================] - 24s 260ms/step - loss: 0.0361 - acc: 0.9897 - val_loss: 3.0840 - val_acc: 0.6370\n",
      "Epoch 30/30\n",
      "94/94 [==============================] - 24s 261ms/step - loss: 0.0227 - acc: 0.9933 - val_loss: 2.7707 - val_acc: 0.6507\n"
     ]
    },
    {
     "data": {
      "text/plain": [
       "<keras.callbacks.History at 0x17a8e14d788>"
      ]
     },
     "execution_count": 16,
     "metadata": {},
     "output_type": "execute_result"
    }
   ],
   "source": [
    "model.fit_generator(x_train, steps_per_epoch =94,epochs = 30,validation_data = x_test,validation_steps = 40)"
   ]
  },
  {
   "cell_type": "code",
   "execution_count": 17,
   "metadata": {},
   "outputs": [],
   "source": [
    "model.save(\"building.h5\")"
   ]
  },
  {
   "cell_type": "code",
   "execution_count": null,
   "metadata": {},
   "outputs": [],
   "source": []
  }
 ],
 "metadata": {
  "kernelspec": {
   "display_name": "Python 3",
   "language": "python",
   "name": "python3"
  },
  "language_info": {
   "codemirror_mode": {
    "name": "ipython",
    "version": 3
   },
   "file_extension": ".py",
   "mimetype": "text/x-python",
   "name": "python",
   "nbconvert_exporter": "python",
   "pygments_lexer": "ipython3",
   "version": "3.7.6"
  }
 },
 "nbformat": 4,
 "nbformat_minor": 2
}
